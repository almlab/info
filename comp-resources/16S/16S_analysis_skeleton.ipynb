{
 "cells": [
  {
   "cell_type": "markdown",
   "metadata": {},
   "source": [
    "This notebook shows you how to:\n",
    "\n",
    "1. Download an OTU table from MicrobiomeHD\n",
    "2. Read in the OTU table, clean it up a bit, and convert to relative abundance\n",
    "3. Perform univariate tests\n",
    "4. Plot the abundance of some OTUs\n",
    "5. Build a random forest classifier\n",
    "\n",
    "You need the following packages, most of which come with Anaconda (except maybe seaborn):\n",
    "- pandas\n",
    "- seaborn\n",
    "- numpy\n",
    "- matplotlib\n",
    "- scipy\n",
    "- scikit-learn"
   ]
  },
  {
   "cell_type": "code",
   "execution_count": 68,
   "metadata": {
    "collapsed": true
   },
   "outputs": [],
   "source": [
    "import pandas as pd\n",
    "import numpy as np\n",
    "\n",
    "# Univariate tests\n",
    "from scipy.stats.mstats import kruskalwallis\n",
    "from scipy.stats import ranksums, mannwhitneyu\n",
    "# FDR correction\n",
    "from statsmodels.sandbox.stats.multicomp import multipletests\n",
    "\n",
    "# Random forest classifier\n",
    "from sklearn.ensemble import RandomForestClassifier\n",
    "from sklearn.metrics import roc_auc_score, roc_curve\n",
    "\n",
    "# Plotting\n",
    "import matplotlib.pyplot as plt\n",
    "import seaborn as sns\n",
    "# This line makes it so plots show up in line in the notebook,\n",
    "# without having to call plt.show()\n",
    "%matplotlib inline"
   ]
  },
  {
   "cell_type": "markdown",
   "metadata": {},
   "source": [
    "First, we download the OTU table using `wget`. Note that this is a bash functionality, and isn't actually in python. (Jupyter notebooks are cool because you can call bash commands directly from within the notebook, but if you put this part in your `.py` scripts it will break. \n",
    "\n",
    "The data in MicrobiomeHD is available on Zenodo: https://zenodo.org/record/1146764#.W7ZbRRNKjBI"
   ]
  },
  {
   "cell_type": "code",
   "execution_count": 13,
   "metadata": {
    "collapsed": false
   },
   "outputs": [
    {
     "name": "stderr",
     "output_type": "stream",
     "text": [
      "--2018-10-04 14:30:05--  https://zenodo.org/record/1146764/files/ibd_alm_results.tar.gz\n",
      "Resolving zenodo.org... 137.138.76.77\n",
      "Connecting to zenodo.org|137.138.76.77|:443... connected.\n",
      "HTTP request sent, awaiting response... 200 OK\n",
      "Length: 4973955 (4.7M) [application/octet-stream]\n",
      "Saving to: ‘ibd_alm_results.tar.gz’\n",
      "\n",
      "     0K .......... .......... .......... .......... ..........  1%  270K 18s\n",
      "    50K .......... .......... .......... .......... ..........  2%  546K 13s\n",
      "   100K .......... .......... .......... .......... ..........  3% 13.6M 9s\n",
      "   150K .......... .......... .......... .......... ..........  4%  567K 9s\n",
      "   200K .......... .......... .......... .......... ..........  5% 7.39M 7s\n",
      "   250K .......... .......... .......... .......... ..........  6% 16.4M 6s\n",
      "   300K .......... .......... .......... .......... ..........  7%  594K 6s\n",
      "   350K .......... .......... .......... .......... ..........  8% 16.3M 5s\n",
      "   400K .......... .......... .......... .......... ..........  9% 11.8M 5s\n",
      "   450K .......... .......... .......... .......... .......... 10% 22.3M 4s\n",
      "   500K .......... .......... .......... .......... .......... 11%  590K 4s\n",
      "   550K .......... .......... .......... .......... .......... 12% 40.4M 4s\n",
      "   600K .......... .......... .......... .......... .......... 13% 23.4M 4s\n",
      "   650K .......... .......... .......... .......... .......... 14% 8.38M 3s\n",
      "   700K .......... .......... .......... .......... .......... 15% 28.5M 3s\n",
      "   750K .......... .......... .......... .......... .......... 16%  579K 3s\n",
      "   800K .......... .......... .......... .......... .......... 17% 36.7M 3s\n",
      "   850K .......... .......... .......... .......... .......... 18% 19.4M 3s\n",
      "   900K .......... .......... .......... .......... .......... 19% 42.3M 3s\n",
      "   950K .......... .......... .......... .......... .......... 20% 55.1M 3s\n",
      "  1000K .......... .......... .......... .......... .......... 21% 44.9M 2s\n",
      "  1050K .......... .......... .......... .......... .......... 22% 10.1M 2s\n",
      "  1100K .......... .......... .......... .......... .......... 23% 64.8M 2s\n",
      "  1150K .......... .......... .......... .......... .......... 24%  566K 2s\n",
      "  1200K .......... .......... .......... .......... .......... 25% 37.7M 2s\n",
      "  1250K .......... .......... .......... .......... .......... 26% 49.8M 2s\n",
      "  1300K .......... .......... .......... .......... .......... 27% 52.8M 2s\n",
      "  1350K .......... .......... .......... .......... .......... 28% 37.9M 2s\n",
      "  1400K .......... .......... .......... .......... .......... 29% 28.8M 2s\n",
      "  1450K .......... .......... .......... .......... .......... 30% 42.3M 2s\n",
      "  1500K .......... .......... .......... .......... .......... 31% 35.5M 2s\n",
      "  1550K .......... .......... .......... .......... .......... 32% 49.1M 2s\n",
      "  1600K .......... .......... .......... .......... .......... 33%  536K 2s\n",
      "  1650K .......... .......... .......... .......... .......... 34% 35.4M 2s\n",
      "  1700K .......... .......... .......... .......... .......... 36% 36.0M 2s\n",
      "  1750K .......... .......... .......... .......... .......... 37% 43.1M 1s\n",
      "  1800K .......... .......... .......... .......... .......... 38% 39.7M 1s\n",
      "  1850K .......... .......... .......... .......... .......... 39% 23.7M 1s\n",
      "  1900K .......... .......... .......... .......... .......... 40% 48.6M 1s\n",
      "  1950K .......... .......... .......... .......... .......... 41% 45.1M 1s\n",
      "  2000K .......... .......... .......... .......... .......... 42% 51.6M 1s\n",
      "  2050K .......... .......... .......... .......... .......... 43% 23.6M 1s\n",
      "  2100K .......... .......... .......... .......... .......... 44% 49.3M 1s\n",
      "  2150K .......... .......... .......... .......... .......... 45% 12.2M 1s\n",
      "  2200K .......... .......... .......... .......... .......... 46% 17.0M 1s\n",
      "  2250K .......... .......... .......... .......... .......... 47% 37.2M 1s\n",
      "  2300K .......... .......... .......... .......... .......... 48% 57.3M 1s\n",
      "  2350K .......... .......... .......... .......... .......... 49% 69.3M 1s\n",
      "  2400K .......... .......... .......... .......... .......... 50%  711K 1s\n",
      "  2450K .......... .......... .......... .......... .......... 51% 59.5M 1s\n",
      "  2500K .......... .......... .......... .......... .......... 52% 31.8M 1s\n",
      "  2550K .......... .......... .......... .......... .......... 53% 4.21M 1s\n",
      "  2600K .......... .......... .......... .......... .......... 54% 22.4M 1s\n",
      "  2650K .......... .......... .......... .......... .......... 55% 38.5M 1s\n",
      "  2700K .......... .......... .......... .......... .......... 56% 37.9M 1s\n",
      "  2750K .......... .......... .......... .......... .......... 57% 59.9M 1s\n",
      "  2800K .......... .......... .......... .......... .......... 58% 18.6M 1s\n",
      "  2850K .......... .......... .......... .......... .......... 59% 52.6M 1s\n",
      "  2900K .......... .......... .......... .......... .......... 60% 21.0M 1s\n",
      "  2950K .......... .......... .......... .......... .......... 61% 56.9M 1s\n",
      "  3000K .......... .......... .......... .......... .......... 62% 35.0M 1s\n",
      "  3050K .......... .......... .......... .......... .......... 63% 60.7M 1s\n",
      "  3100K .......... .......... .......... .......... .......... 64% 38.3M 1s\n",
      "  3150K .......... .......... .......... .......... .......... 65% 37.1M 1s\n",
      "  3200K .......... .......... .......... .......... .......... 66% 45.9M 0s\n",
      "  3250K .......... .......... .......... .......... .......... 67% 10.9M 0s\n",
      "  3300K .......... .......... .......... .......... .......... 68% 34.8M 0s\n",
      "  3350K .......... .......... .......... .......... .......... 69%  879K 0s\n",
      "  3400K .......... .......... .......... .......... .......... 71% 27.5M 0s\n",
      "  3450K .......... .......... .......... .......... .......... 72% 24.9M 0s\n",
      "  3500K .......... .......... .......... .......... .......... 73% 3.45M 0s\n",
      "  3550K .......... .......... .......... .......... .......... 74% 28.6M 0s\n",
      "  3600K .......... .......... .......... .......... .......... 75% 24.5M 0s\n",
      "  3650K .......... .......... .......... .......... .......... 76% 6.06M 0s\n",
      "  3700K .......... .......... .......... .......... .......... 77% 24.2M 0s\n",
      "  3750K .......... .......... .......... .......... .......... 78% 45.0M 0s\n",
      "  3800K .......... .......... .......... .......... .......... 79% 36.2M 0s\n",
      "  3850K .......... .......... .......... .......... .......... 80% 51.7M 0s\n",
      "  3900K .......... .......... .......... .......... .......... 81% 19.4M 0s\n",
      "  3950K .......... .......... .......... .......... .......... 82% 23.3M 0s\n",
      "  4000K .......... .......... .......... .......... .......... 83% 31.7M 0s\n",
      "  4050K .......... .......... .......... .......... .......... 84% 42.9M 0s\n",
      "  4100K .......... .......... .......... .......... .......... 85% 51.5M 0s\n",
      "  4150K .......... .......... .......... .......... .......... 86% 15.1M 0s\n",
      "  4200K .......... .......... .......... .......... .......... 87% 66.8M 0s\n",
      "  4250K .......... .......... .......... .......... .......... 88% 27.2M 0s\n",
      "  4300K .......... .......... .......... .......... .......... 89% 32.6M 0s\n",
      "  4350K .......... .......... .......... .......... .......... 90% 1.05M 0s\n",
      "  4400K .......... .......... .......... .......... .......... 91% 25.6M 0s\n",
      "  4450K .......... .......... .......... .......... .......... 92% 19.1M 0s\n",
      "  4500K .......... .......... .......... .......... .......... 93% 3.66M 0s\n",
      "  4550K .......... .......... .......... .......... .......... 94% 49.9M 0s\n",
      "  4600K .......... .......... .......... .......... .......... 95% 15.8M 0s\n",
      "  4650K .......... .......... .......... .......... .......... 96% 50.7M 0s\n",
      "  4700K .......... .......... .......... .......... .......... 97% 5.63M 0s\n",
      "  4750K .......... .......... .......... .......... .......... 98% 33.7M 0s\n",
      "  4800K .......... .......... .......... .......... .......... 99% 15.3M 0s\n",
      "  4850K .......                                               100%  148K=1.2s\n",
      "\n",
      "2018-10-04 14:30:07 (4.02 MB/s) - ‘ibd_alm_results.tar.gz’ saved [4973955/4973955]\n",
      "\n",
      "x ibd_alm_results/\n",
      "x ibd_alm_results/ibd_alm.otu_seqs.100.fasta\n",
      "x ibd_alm_results/ibd_alm.otu_table.100.denovo_oligotypes\n",
      "x ibd_alm_results/GG/\n",
      "x ibd_alm_results/RDP/\n",
      "x ibd_alm_results/ibd_alm.metadata.txt\n",
      "x ibd_alm_results/ibd_alm.raw_dereplicated.fasta\n",
      "x ibd_alm_results/ibd_alm.otu_table.100.denovo\n",
      "x ibd_alm_results/README.txt\n",
      "x ibd_alm_results/summary_file.txt\n",
      "x ibd_alm_results/RDP/RDP_classifications.denovo.txt\n",
      "x ibd_alm_results/RDP/ibd_alm.otu_table.100.denovo.rdp_assigned\n"
     ]
    }
   ],
   "source": [
    "%%bash\n",
    "\n",
    "# Put the file name you want to download here\n",
    "dataset=ibd_alm_results.tar.gz\n",
    "\n",
    "# wget gets that file from zenodo\n",
    "wget https://zenodo.org/record/1146764/files/${dataset} --no-check-certificate\n",
    "\n",
    "# Unzip the file\n",
    "tar -xvf ${dataset}"
   ]
  },
  {
   "cell_type": "code",
   "execution_count": 14,
   "metadata": {
    "collapsed": false
   },
   "outputs": [
    {
     "name": "stdout",
     "output_type": "stream",
     "text": [
      "16S_Workshop_Claire_Oct2016.pdf\n",
      "16S_analysis_skeleton.ipynb\n",
      "README.md\n",
      "ibd_alm_results\n",
      "ibd_alm_results.tar.gz\n"
     ]
    }
   ],
   "source": [
    "%%bash\n",
    "# Now you can look in the folder you're in and see the tar file and unzipped files too:\n",
    "ls"
   ]
  },
  {
   "cell_type": "markdown",
   "metadata": {},
   "source": [
    "Okay, now we're back in python. Let's read in the OTU table and run a univariate test."
   ]
  },
  {
   "cell_type": "code",
   "execution_count": 18,
   "metadata": {
    "collapsed": false
   },
   "outputs": [
    {
     "data": {
      "text/html": [
       "<div>\n",
       "<style scoped>\n",
       "    .dataframe tbody tr th:only-of-type {\n",
       "        vertical-align: middle;\n",
       "    }\n",
       "\n",
       "    .dataframe tbody tr th {\n",
       "        vertical-align: top;\n",
       "    }\n",
       "\n",
       "    .dataframe thead th {\n",
       "        text-align: right;\n",
       "    }\n",
       "</style>\n",
       "<table border=\"1\" class=\"dataframe\">\n",
       "  <thead>\n",
       "    <tr style=\"text-align: right;\">\n",
       "      <th></th>\n",
       "      <th>k__Bacteria;p__Firmicutes;c__Clostridia;o__Clostridiales;f__Ruminococcaceae;g__Faecalibacterium;s__;d__denovo7709</th>\n",
       "      <th>k__Bacteria;p__Bacteroidetes;c__Bacteroidia;o__Bacteroidales;f__Bacteroidaceae;g__Bacteroides;s__;d__denovo5395</th>\n",
       "      <th>k__Bacteria;p__Bacteroidetes;c__Bacteroidia;o__Bacteroidales;f__Bacteroidaceae;g__Bacteroides;s__;d__denovo11322</th>\n",
       "      <th>k__Bacteria;p__Bacteroidetes;c__Bacteroidia;o__Bacteroidales;f__Prevotellaceae;g__Prevotella;s__;d__denovo11290</th>\n",
       "      <th>k__Bacteria;p__Firmicutes;c__Clostridia;o__Clostridiales;f__Ruminococcaceae;g__Faecalibacterium;s__;d__denovo32131</th>\n",
       "      <th>k__Bacteria;p__Firmicutes;c__Clostridia;o__Clostridiales;f__Lachnospiraceae;g__Roseburia;s__;d__denovo12511</th>\n",
       "      <th>k__Bacteria;p__Firmicutes;c__Negativicutes;o__Selenomonadales;f__Veillonellaceae;g__Veillonella;s__;d__denovo12510</th>\n",
       "      <th>k__Bacteria;p__Bacteroidetes;c__Bacteroidia;o__Bacteroidales;f__Bacteroidaceae;g__Bacteroides;s__;d__denovo12513</th>\n",
       "      <th>k__Bacteria;p__Firmicutes;c__Clostridia;o__Clostridiales;f__;g__;s__;d__denovo12512</th>\n",
       "      <th>k__Bacteria;p__Bacteroidetes;c__Bacteroidia;o__Bacteroidales;f__Bacteroidaceae;g__Bacteroides;s__;d__denovo12515</th>\n",
       "      <th>...</th>\n",
       "      <th>k__Bacteria;p__Bacteroidetes;c__Bacteroidia;o__Bacteroidales;f__Bacteroidaceae;g__Bacteroides;s__;d__denovo22212</th>\n",
       "      <th>k__Bacteria;p__Bacteroidetes;c__Bacteroidia;o__Bacteroidales;f__Bacteroidaceae;g__Bacteroides;s__;d__denovo19194</th>\n",
       "      <th>k__Bacteria;p__Firmicutes;c__Clostridia;o__Clostridiales;f__Ruminococcaceae;g__Flavonifractor;s__;d__denovo22214</th>\n",
       "      <th>k__Bacteria;p__Firmicutes;c__Clostridia;o__Clostridiales;f__Lachnospiraceae;g__Clostridium_XlVa;s__;d__denovo19196</th>\n",
       "      <th>k__Bacteria;p__Firmicutes;c__Clostridia;o__Clostridiales;f__Lachnospiraceae;g__;s__;d__denovo22216</th>\n",
       "      <th>k__Bacteria;p__Firmicutes;c__Clostridia;o__Clostridiales;f__Lachnospiraceae;g__Clostridium_XlVa;s__;d__denovo22219</th>\n",
       "      <th>k__Bacteria;p__Firmicutes;c__Clostridia;o__Clostridiales;f__Ruminococcaceae;g__Faecalibacterium;s__;d__denovo22218</th>\n",
       "      <th>k__Bacteria;p__Firmicutes;c__Clostridia;o__Clostridiales;f__Ruminococcaceae;g__Ruminococcus;s__;d__denovo15143</th>\n",
       "      <th>k__Bacteria;p__Proteobacteria;c__Gammaproteobacteria;o__Enterobacteriales;f__Enterobacteriaceae;g__Escherichia/Shigella;s__;d__denovo32739</th>\n",
       "      <th>k__Bacteria;p__Bacteroidetes;c__Bacteroidia;o__Bacteroidales;f__Bacteroidaceae;g__Bacteroides;s__;d__denovo32738</th>\n",
       "    </tr>\n",
       "  </thead>\n",
       "  <tbody>\n",
       "    <tr>\n",
       "      <th>099A</th>\n",
       "      <td>0</td>\n",
       "      <td>0</td>\n",
       "      <td>0</td>\n",
       "      <td>0</td>\n",
       "      <td>0</td>\n",
       "      <td>0</td>\n",
       "      <td>0</td>\n",
       "      <td>0</td>\n",
       "      <td>0</td>\n",
       "      <td>0</td>\n",
       "      <td>...</td>\n",
       "      <td>0</td>\n",
       "      <td>0</td>\n",
       "      <td>0</td>\n",
       "      <td>0</td>\n",
       "      <td>0</td>\n",
       "      <td>0</td>\n",
       "      <td>0</td>\n",
       "      <td>0</td>\n",
       "      <td>0</td>\n",
       "      <td>0</td>\n",
       "    </tr>\n",
       "    <tr>\n",
       "      <th>199A</th>\n",
       "      <td>0</td>\n",
       "      <td>0</td>\n",
       "      <td>0</td>\n",
       "      <td>0</td>\n",
       "      <td>0</td>\n",
       "      <td>0</td>\n",
       "      <td>0</td>\n",
       "      <td>0</td>\n",
       "      <td>0</td>\n",
       "      <td>0</td>\n",
       "      <td>...</td>\n",
       "      <td>0</td>\n",
       "      <td>0</td>\n",
       "      <td>0</td>\n",
       "      <td>0</td>\n",
       "      <td>0</td>\n",
       "      <td>0</td>\n",
       "      <td>0</td>\n",
       "      <td>0</td>\n",
       "      <td>0</td>\n",
       "      <td>0</td>\n",
       "    </tr>\n",
       "    <tr>\n",
       "      <th>062B</th>\n",
       "      <td>0</td>\n",
       "      <td>0</td>\n",
       "      <td>0</td>\n",
       "      <td>0</td>\n",
       "      <td>0</td>\n",
       "      <td>0</td>\n",
       "      <td>0</td>\n",
       "      <td>0</td>\n",
       "      <td>0</td>\n",
       "      <td>0</td>\n",
       "      <td>...</td>\n",
       "      <td>0</td>\n",
       "      <td>0</td>\n",
       "      <td>0</td>\n",
       "      <td>0</td>\n",
       "      <td>0</td>\n",
       "      <td>0</td>\n",
       "      <td>0</td>\n",
       "      <td>0</td>\n",
       "      <td>0</td>\n",
       "      <td>0</td>\n",
       "    </tr>\n",
       "    <tr>\n",
       "      <th>194A</th>\n",
       "      <td>0</td>\n",
       "      <td>0</td>\n",
       "      <td>0</td>\n",
       "      <td>0</td>\n",
       "      <td>0</td>\n",
       "      <td>0</td>\n",
       "      <td>0</td>\n",
       "      <td>0</td>\n",
       "      <td>0</td>\n",
       "      <td>0</td>\n",
       "      <td>...</td>\n",
       "      <td>0</td>\n",
       "      <td>0</td>\n",
       "      <td>0</td>\n",
       "      <td>0</td>\n",
       "      <td>0</td>\n",
       "      <td>0</td>\n",
       "      <td>0</td>\n",
       "      <td>0</td>\n",
       "      <td>0</td>\n",
       "      <td>0</td>\n",
       "    </tr>\n",
       "    <tr>\n",
       "      <th>166A</th>\n",
       "      <td>0</td>\n",
       "      <td>0</td>\n",
       "      <td>0</td>\n",
       "      <td>0</td>\n",
       "      <td>0</td>\n",
       "      <td>0</td>\n",
       "      <td>0</td>\n",
       "      <td>0</td>\n",
       "      <td>0</td>\n",
       "      <td>0</td>\n",
       "      <td>...</td>\n",
       "      <td>0</td>\n",
       "      <td>0</td>\n",
       "      <td>0</td>\n",
       "      <td>0</td>\n",
       "      <td>0</td>\n",
       "      <td>0</td>\n",
       "      <td>0</td>\n",
       "      <td>0</td>\n",
       "      <td>0</td>\n",
       "      <td>0</td>\n",
       "    </tr>\n",
       "  </tbody>\n",
       "</table>\n",
       "<p>5 rows × 36349 columns</p>\n",
       "</div>"
      ],
      "text/plain": [
       "      k__Bacteria;p__Firmicutes;c__Clostridia;o__Clostridiales;f__Ruminococcaceae;g__Faecalibacterium;s__;d__denovo7709  \\\n",
       "099A                                                  0                                                                   \n",
       "199A                                                  0                                                                   \n",
       "062B                                                  0                                                                   \n",
       "194A                                                  0                                                                   \n",
       "166A                                                  0                                                                   \n",
       "\n",
       "      k__Bacteria;p__Bacteroidetes;c__Bacteroidia;o__Bacteroidales;f__Bacteroidaceae;g__Bacteroides;s__;d__denovo5395  \\\n",
       "099A                                                  0                                                                 \n",
       "199A                                                  0                                                                 \n",
       "062B                                                  0                                                                 \n",
       "194A                                                  0                                                                 \n",
       "166A                                                  0                                                                 \n",
       "\n",
       "      k__Bacteria;p__Bacteroidetes;c__Bacteroidia;o__Bacteroidales;f__Bacteroidaceae;g__Bacteroides;s__;d__denovo11322  \\\n",
       "099A                                                  0                                                                  \n",
       "199A                                                  0                                                                  \n",
       "062B                                                  0                                                                  \n",
       "194A                                                  0                                                                  \n",
       "166A                                                  0                                                                  \n",
       "\n",
       "      k__Bacteria;p__Bacteroidetes;c__Bacteroidia;o__Bacteroidales;f__Prevotellaceae;g__Prevotella;s__;d__denovo11290  \\\n",
       "099A                                                  0                                                                 \n",
       "199A                                                  0                                                                 \n",
       "062B                                                  0                                                                 \n",
       "194A                                                  0                                                                 \n",
       "166A                                                  0                                                                 \n",
       "\n",
       "      k__Bacteria;p__Firmicutes;c__Clostridia;o__Clostridiales;f__Ruminococcaceae;g__Faecalibacterium;s__;d__denovo32131  \\\n",
       "099A                                                  0                                                                    \n",
       "199A                                                  0                                                                    \n",
       "062B                                                  0                                                                    \n",
       "194A                                                  0                                                                    \n",
       "166A                                                  0                                                                    \n",
       "\n",
       "      k__Bacteria;p__Firmicutes;c__Clostridia;o__Clostridiales;f__Lachnospiraceae;g__Roseburia;s__;d__denovo12511  \\\n",
       "099A                                                  0                                                             \n",
       "199A                                                  0                                                             \n",
       "062B                                                  0                                                             \n",
       "194A                                                  0                                                             \n",
       "166A                                                  0                                                             \n",
       "\n",
       "      k__Bacteria;p__Firmicutes;c__Negativicutes;o__Selenomonadales;f__Veillonellaceae;g__Veillonella;s__;d__denovo12510  \\\n",
       "099A                                                  0                                                                    \n",
       "199A                                                  0                                                                    \n",
       "062B                                                  0                                                                    \n",
       "194A                                                  0                                                                    \n",
       "166A                                                  0                                                                    \n",
       "\n",
       "      k__Bacteria;p__Bacteroidetes;c__Bacteroidia;o__Bacteroidales;f__Bacteroidaceae;g__Bacteroides;s__;d__denovo12513  \\\n",
       "099A                                                  0                                                                  \n",
       "199A                                                  0                                                                  \n",
       "062B                                                  0                                                                  \n",
       "194A                                                  0                                                                  \n",
       "166A                                                  0                                                                  \n",
       "\n",
       "      k__Bacteria;p__Firmicutes;c__Clostridia;o__Clostridiales;f__;g__;s__;d__denovo12512  \\\n",
       "099A                                                  0                                     \n",
       "199A                                                  0                                     \n",
       "062B                                                  0                                     \n",
       "194A                                                  0                                     \n",
       "166A                                                  0                                     \n",
       "\n",
       "      k__Bacteria;p__Bacteroidetes;c__Bacteroidia;o__Bacteroidales;f__Bacteroidaceae;g__Bacteroides;s__;d__denovo12515  \\\n",
       "099A                                                  0                                                                  \n",
       "199A                                                  0                                                                  \n",
       "062B                                                  0                                                                  \n",
       "194A                                                  0                                                                  \n",
       "166A                                                  0                                                                  \n",
       "\n",
       "                                                            ...                                                         \\\n",
       "099A                                                        ...                                                          \n",
       "199A                                                        ...                                                          \n",
       "062B                                                        ...                                                          \n",
       "194A                                                        ...                                                          \n",
       "166A                                                        ...                                                          \n",
       "\n",
       "      k__Bacteria;p__Bacteroidetes;c__Bacteroidia;o__Bacteroidales;f__Bacteroidaceae;g__Bacteroides;s__;d__denovo22212  \\\n",
       "099A                                                  0                                                                  \n",
       "199A                                                  0                                                                  \n",
       "062B                                                  0                                                                  \n",
       "194A                                                  0                                                                  \n",
       "166A                                                  0                                                                  \n",
       "\n",
       "      k__Bacteria;p__Bacteroidetes;c__Bacteroidia;o__Bacteroidales;f__Bacteroidaceae;g__Bacteroides;s__;d__denovo19194  \\\n",
       "099A                                                  0                                                                  \n",
       "199A                                                  0                                                                  \n",
       "062B                                                  0                                                                  \n",
       "194A                                                  0                                                                  \n",
       "166A                                                  0                                                                  \n",
       "\n",
       "      k__Bacteria;p__Firmicutes;c__Clostridia;o__Clostridiales;f__Ruminococcaceae;g__Flavonifractor;s__;d__denovo22214  \\\n",
       "099A                                                  0                                                                  \n",
       "199A                                                  0                                                                  \n",
       "062B                                                  0                                                                  \n",
       "194A                                                  0                                                                  \n",
       "166A                                                  0                                                                  \n",
       "\n",
       "      k__Bacteria;p__Firmicutes;c__Clostridia;o__Clostridiales;f__Lachnospiraceae;g__Clostridium_XlVa;s__;d__denovo19196  \\\n",
       "099A                                                  0                                                                    \n",
       "199A                                                  0                                                                    \n",
       "062B                                                  0                                                                    \n",
       "194A                                                  0                                                                    \n",
       "166A                                                  0                                                                    \n",
       "\n",
       "      k__Bacteria;p__Firmicutes;c__Clostridia;o__Clostridiales;f__Lachnospiraceae;g__;s__;d__denovo22216  \\\n",
       "099A                                                  0                                                    \n",
       "199A                                                  0                                                    \n",
       "062B                                                  0                                                    \n",
       "194A                                                  0                                                    \n",
       "166A                                                  0                                                    \n",
       "\n",
       "      k__Bacteria;p__Firmicutes;c__Clostridia;o__Clostridiales;f__Lachnospiraceae;g__Clostridium_XlVa;s__;d__denovo22219  \\\n",
       "099A                                                  0                                                                    \n",
       "199A                                                  0                                                                    \n",
       "062B                                                  0                                                                    \n",
       "194A                                                  0                                                                    \n",
       "166A                                                  0                                                                    \n",
       "\n",
       "      k__Bacteria;p__Firmicutes;c__Clostridia;o__Clostridiales;f__Ruminococcaceae;g__Faecalibacterium;s__;d__denovo22218  \\\n",
       "099A                                                  0                                                                    \n",
       "199A                                                  0                                                                    \n",
       "062B                                                  0                                                                    \n",
       "194A                                                  0                                                                    \n",
       "166A                                                  0                                                                    \n",
       "\n",
       "      k__Bacteria;p__Firmicutes;c__Clostridia;o__Clostridiales;f__Ruminococcaceae;g__Ruminococcus;s__;d__denovo15143  \\\n",
       "099A                                                  0                                                                \n",
       "199A                                                  0                                                                \n",
       "062B                                                  0                                                                \n",
       "194A                                                  0                                                                \n",
       "166A                                                  0                                                                \n",
       "\n",
       "      k__Bacteria;p__Proteobacteria;c__Gammaproteobacteria;o__Enterobacteriales;f__Enterobacteriaceae;g__Escherichia/Shigella;s__;d__denovo32739  \\\n",
       "099A                                                  0                                                                                            \n",
       "199A                                                  0                                                                                            \n",
       "062B                                                  0                                                                                            \n",
       "194A                                                  0                                                                                            \n",
       "166A                                                  0                                                                                            \n",
       "\n",
       "      k__Bacteria;p__Bacteroidetes;c__Bacteroidia;o__Bacteroidales;f__Bacteroidaceae;g__Bacteroides;s__;d__denovo32738  \n",
       "099A                                                  0                                                                 \n",
       "199A                                                  0                                                                 \n",
       "062B                                                  0                                                                 \n",
       "194A                                                  0                                                                 \n",
       "166A                                                  0                                                                 \n",
       "\n",
       "[5 rows x 36349 columns]"
      ]
     },
     "execution_count": 18,
     "metadata": {},
     "output_type": "execute_result"
    }
   ],
   "source": [
    "fotu = 'ibd_alm_results/RDP/ibd_alm.otu_table.100.denovo.rdp_assigned'\n",
    "fmeta = 'ibd_alm_results/ibd_alm.metadata.txt'\n",
    "\n",
    "# We're transposing this dataframe so that OTUs are in columns\n",
    "# and samples are in rows\n",
    "df = pd.read_csv(fotu, sep='\\t', index_col=0).T\n",
    "\n",
    "# Read in metadata\n",
    "meta = pd.read_csv(fmeta, sep='\\t', index_col=0)\n",
    "\n",
    "# Look at the first few rows of the OTU table\n",
    "df.head()"
   ]
  },
  {
   "cell_type": "markdown",
   "metadata": {},
   "source": [
    "# Clean up the data\n",
    "\n",
    "We need to remove low abundance samples and OTUs and sample which don't have metadata."
   ]
  },
  {
   "cell_type": "code",
   "execution_count": 19,
   "metadata": {
    "collapsed": true
   },
   "outputs": [],
   "source": [
    "# First, define some functions that we'll be using\n",
    "def clean_up_samples(df, meta, conditions=None):\n",
    "    \"\"\"\n",
    "    Cleans up samples in the OTU table and metadata dataframes.\n",
    "    Keeps only samples which have both metadata and 16S data. If a condition\n",
    "    is given, also keeps only samples which have the specified condition.\n",
    "\n",
    "    Parameters\n",
    "    ----------\n",
    "    df, meta : pandas dataframes\n",
    "        samples in rows, OTUs/metadata labels in columns.\n",
    "    conditions : dict\n",
    "        dictionary with {metadata_column: [values to keep]}\n",
    "        metadata_column should be a str, and there can be more\n",
    "        than one of them as different keys in this dict (i.e. multiple columns)\n",
    "\n",
    "    Returns\n",
    "    -------\n",
    "    df, meta : pandas dataframes\n",
    "        dataframes containing only samples which have both\n",
    "        16S data and metadata. If a subset of metadata was\n",
    "        specified in 'condition' in the yaml file, only returns\n",
    "        the subset of samples that meet that condition.\n",
    "    \"\"\"\n",
    "\n",
    "    print('Original: {} samples with 16S, '.format(df.shape[0]) +\n",
    "          '{} samples with metadata.'.format(meta.shape[0]))\n",
    "\n",
    "    # If a condition is given, keep only samples with that condition\n",
    "    if conditions is not None:\n",
    "        for col in conditions:\n",
    "            print('Keeping only samples with values ' +\n",
    "                  '{}'.format(', '.join([str(i) for i in conditions[col]]) +\n",
    "                  ' for metadata column {}'.format(col))\n",
    "                  )\n",
    "            meta = meta[meta[col].isin(conditions[col])]\n",
    "            print('{} samples left in metadata'.format(meta.shape[0]))\n",
    "\n",
    "    # Remove samples which don't have both 16S and metadata\n",
    "    keepsmpls = [i for i in df.index if i in meta.index]\n",
    "\n",
    "    if len(keepsmpls) != len(df.index) or len(keepsmpls) != len(meta.index):\n",
    "        print('Dataset has {} samples with 16S, '.format(len(df.index)) +\n",
    "              '{} samples with metadata, '.format(len(meta.index)) +\n",
    "              'but only {} samples with both'.format(len(keepsmpls))\n",
    "              )\n",
    "\n",
    "    df = df.loc[keepsmpls]\n",
    "    meta = meta.loc[keepsmpls]\n",
    "\n",
    "    return df, meta\n",
    "\n",
    "def clean_up_tables(df, meta, n_reads_otu, n_reads_sample, perc_samples):\n",
    "    \"\"\"\n",
    "    Cleans up the OTU table and metadata dataframes in data.\n",
    "    Removes samples with fewer than n_reads_sample reads.\n",
    "    Removes OTUs with fewer than n_reads_otu reads.\n",
    "    Removes OTUs which are present in fewer than perc_samples*100 percent of samples.\n",
    "    Removes empty samples/OTUs.\n",
    "    \"\"\"\n",
    "\n",
    "    # Remove samples with fewer than n_reads reads.\n",
    "    df = remove_shallow_smpls(df, n_reads_sample)\n",
    "\n",
    "    # Remove OTUs with fewer than 10 reads\n",
    "    old = df.shape[1]\n",
    "    df = remove_shallow_otus(df, n_reads=n_reads_otu)\n",
    "    new = df.shape[1]\n",
    "    if new < old:\n",
    "        print('Of {} original OTUs, {}'.format(old, new) +\n",
    "              ' have more than {} reads'.format(n_reads_otu)\n",
    "              )\n",
    "\n",
    "    # Remove OTUs which are present in fewer than perc_samples of samples.\n",
    "    old = df.shape[1]\n",
    "    df = remove_shallow_otus(df, perc_samples=perc_samples)\n",
    "    new = df.shape[1]\n",
    "    if new < old:\n",
    "        print('Of {} original OTUs, {} are present '.format(old, new) +\n",
    "              'in more than {}% of samples'.format(perc_samples*100)\n",
    "              )\n",
    "\n",
    "    # Remove any samples which now have fewer than n_reads\n",
    "    df = remove_shallow_smpls(df, n_reads_sample)\n",
    "    keepsmpls = [i for i in df.index if i in meta.index]\n",
    "\n",
    "    if len(keepsmpls) != len(df.index) or len(keepsmpls) != len(meta.index):\n",
    "        print('After some cleaning, dataset has {} '.format(len(df.index)) +\n",
    "              ' samples with 16S, {} samples '.format(len(meta.index)) +\n",
    "              'with metadata, but only {} samples'.format(len(keepsmpls)) +\n",
    "              ' with both.'\n",
    "              )\n",
    "\n",
    "        df = df.loc[keepsmpls]\n",
    "        meta = meta.loc[keepsmpls]\n",
    "\n",
    "    # Remove empty metadata columns (just in case...)\n",
    "    meta = meta.dropna(how='all', axis=1)\n",
    "\n",
    "    return df, meta\n",
    "\n",
    "def remove_shallow_smpls(df, n_reads):\n",
    "    \"\"\"\n",
    "    Removes samples with fewer than n_reads from dataframe df.\n",
    "\n",
    "    Parameters\n",
    "    -----------\n",
    "    df : pandas dataframe\n",
    "        samples are in rows, OTUs are in columns\n",
    "    n_reads : int\n",
    "        minimum number of reads per sample for sample to be kept\n",
    "    \"\"\"\n",
    "\n",
    "    total_reads = df.sum(axis=1)\n",
    "    shallow_smpls = [smpl for smpl in total_reads.index \\\n",
    "                     if total_reads.loc[smpl] <= n_reads]\n",
    "    df = df.drop(shallow_smpls)\n",
    "\n",
    "    return df\n",
    "\n",
    "def remove_shallow_otus(df, perc_samples=None, n_reads=None):\n",
    "    \"\"\"\n",
    "    Removes OTUs which are present in fewer than 100*perc_samples percent of\n",
    "    samples OR which have fewer than n_reads reads.\n",
    "\n",
    "    Parameters\n",
    "    ----------\n",
    "    df : pandas dataframe\n",
    "        Samples are in rows. OTUs are in columns.\n",
    "    perc_samples : float\n",
    "        min percent of samples that an OTU must be present in to not\n",
    "        be thrown out.\n",
    "    n_reads : int\n",
    "        min number of reads an OTU must have in df to not be thrown\n",
    "        out.\n",
    "\n",
    "    Either perc_samples or n_reads must be specified. If both are specified,\n",
    "    the perc_samples filtering is done first and then OTUs with fewer than\n",
    "    n_reads total are thrown out.\n",
    "\n",
    "    \"\"\"\n",
    "    if perc_samples is not None:\n",
    "        presencemap = lambda x: 1 if x else 0\n",
    "        otus_perc_present = df.applymap(presencemap).sum() / df.shape[0]\n",
    "        keepotus = list(\n",
    "            otus_perc_present[otus_perc_present > perc_samples].index)\n",
    "        df = df[keepotus]\n",
    "\n",
    "    if n_reads is not None:\n",
    "        # Removes any OTUs with fewer than n_reads from the raw and abun dfs\n",
    "        # samples are in rows and OTUs are in columns\n",
    "        total_reads = df.sum(axis=0)\n",
    "        shallow_col_indices = [i for i in range(len(total_reads.index)) \\\n",
    "                               if total_reads.iloc[i] < n_reads]\n",
    "        shallow_otus = df.columns[shallow_col_indices]\n",
    "        df = df.drop(shallow_otus, axis=1)\n",
    "\n",
    "    return df"
   ]
  },
  {
   "cell_type": "markdown",
   "metadata": {},
   "source": [
    "Now we can use these functions to clean up our dataset."
   ]
  },
  {
   "cell_type": "code",
   "execution_count": 20,
   "metadata": {
    "collapsed": false
   },
   "outputs": [
    {
     "name": "stdout",
     "output_type": "stream",
     "text": [
      "((91, 36349), (91, 15))\n",
      "Original: 91 samples with 16S, 91 samples with metadata.\n",
      "((91, 36349), (91, 15))\n",
      "Of 36349 original OTUs, 2742 have more than 10 reads\n",
      "((91, 2742), (91, 15))\n"
     ]
    }
   ],
   "source": [
    "# For the IBD Alm dataset, all samples are stool so we have\n",
    "# no conditions to exclude. For different datasets, you might\n",
    "# need to keep only stool samples. If that's labeled in the column\n",
    "# 'sample_type', you would pass in the following to clean_up_samples:\n",
    "# condition={'sample_type':['stool']}\n",
    "print(df.shape, meta.shape)\n",
    "\n",
    "# Throw out samples without metadata or data\n",
    "condition=None\n",
    "df, meta = clean_up_samples(df, meta, conditions=condition)\n",
    "print(df.shape, meta.shape)\n",
    "\n",
    "# Clean up the OTU table\n",
    "n_reads_otu = 10\n",
    "n_reads_sample = 100\n",
    "perc_samples = 0.01\n",
    "\n",
    "df, meta = clean_up_tables(df, meta, n_reads_otu, n_reads_sample, perc_samples)\n",
    "print(df.shape, meta.shape)"
   ]
  },
  {
   "cell_type": "markdown",
   "metadata": {},
   "source": [
    "And finally, we need to convert to relative abundance."
   ]
  },
  {
   "cell_type": "code",
   "execution_count": 25,
   "metadata": {
    "collapsed": true
   },
   "outputs": [],
   "source": [
    "df = df.divide(df.sum(axis=1), axis=0)"
   ]
  },
  {
   "cell_type": "markdown",
   "metadata": {},
   "source": [
    "# Prepare to do some analyses\n",
    "\n",
    "Next, we'll investigate our metadata file to see how many samples we have in different categories. We'll focus on the `DiseaseState` column, but you can explore more things!"
   ]
  },
  {
   "cell_type": "code",
   "execution_count": 21,
   "metadata": {
    "collapsed": false
   },
   "outputs": [
    {
     "data": {
      "text/plain": [
       "DiseaseState\n",
       "CD          23\n",
       "IBDundef     1\n",
       "UC          43\n",
       "nonIBD      24\n",
       "dtype: int64"
      ]
     },
     "execution_count": 21,
     "metadata": {},
     "output_type": "execute_result"
    }
   ],
   "source": [
    "# Define which metadata column you're looking at\n",
    "# To see all possible columns, try printing meta.columns\n",
    "col = 'DiseaseState'\n",
    "\n",
    "# See how many samples for each value we have\n",
    "meta.groupby(col).size()"
   ]
  },
  {
   "cell_type": "code",
   "execution_count": 22,
   "metadata": {
    "collapsed": false
   },
   "outputs": [
    {
     "name": "stdout",
     "output_type": "stream",
     "text": [
      "(24, 66)\n"
     ]
    }
   ],
   "source": [
    "# Define which patients are controls and cases - you can change this!\n",
    "control_labels = ['nonIBD']\n",
    "case_labels = ['CD', 'UC']\n",
    "\n",
    "# Grab the samples which are cases and controls\n",
    "control_samples = meta.query('DiseaseState == @control_labels').index.tolist()\n",
    "case_samples = meta.query('DiseaseState == @case_labels').index.tolist()\n",
    "\n",
    "print(len(control_samples), len(case_samples))"
   ]
  },
  {
   "cell_type": "markdown",
   "metadata": {},
   "source": [
    "This matches what we expect: 24 nonIBD patients and 23+43=66 case patients."
   ]
  },
  {
   "cell_type": "markdown",
   "metadata": {},
   "source": [
    "## Univariate test\n",
    "\n",
    "First we'll define some wrapper functions to do different types of univariate tests."
   ]
  },
  {
   "cell_type": "code",
   "execution_count": 27,
   "metadata": {
    "collapsed": true
   },
   "outputs": [],
   "source": [
    "def univariate_one_col(col, xsmpls, ysmpls, pfun):\n",
    "    try:\n",
    "        h, p = pfun(col.loc[xsmpls], col.loc[ysmpls])\n",
    "    except:\n",
    "        p = 1\n",
    "        h = 0\n",
    "    return pd.Series([p, h])\n",
    "\n",
    "def compare_otus_teststat(df, Xsmpls, Ysmpls, method='kruskal-wallis', multi_comp=None):\n",
    "    \"\"\"\n",
    "    Compares columns between Xsmpls and Ysmpls, with statistical method=method.\n",
    "    Returns dataframe with both the qvals ('p') and test statistic ('test-stat')\n",
    "\n",
    "    parameters\n",
    "    ----------\n",
    "    df             dataframe, samples are in rows and OTUs in columns\n",
    "    X,Ysmpls       list of samples to compare\n",
    "    method         statistical method to use for comparison\n",
    "    multi_comp     str, type of multiple comparison test to do.\n",
    "                   Currently accepts 'fdr' or None\n",
    "\n",
    "    outputs\n",
    "    -------\n",
    "    results        dataframe with OTUs in rows and 'p' and 'test-stat' in columns\n",
    "\n",
    "    \"\"\"\n",
    "    if method == 'kruskal-wallis':\n",
    "        pfun = kruskalwallis\n",
    "    elif method == 'wilcoxon' or method == 'ranksums':\n",
    "        pfun = ranksums\n",
    "    elif method == 'mann-whitney':\n",
    "        pfun = mannwhitneyu\n",
    "\n",
    "    results = df.apply(lambda col: univariate_one_col(col, Xsmpls, Ysmpls, pfun)).T\n",
    "    results.columns = ['p', 'test_stat']\n",
    "\n",
    "    if multi_comp == 'fdr':\n",
    "        _, results['q'], _, _ = multipletests(results['p'], method='fdr_bh')\n",
    "\n",
    "    return results"
   ]
  },
  {
   "cell_type": "markdown",
   "metadata": {},
   "source": [
    "Now we can use this function to do a univariate Mann-Whitney test."
   ]
  },
  {
   "cell_type": "code",
   "execution_count": 28,
   "metadata": {
    "collapsed": false
   },
   "outputs": [
    {
     "data": {
      "text/html": [
       "<div>\n",
       "<style scoped>\n",
       "    .dataframe tbody tr th:only-of-type {\n",
       "        vertical-align: middle;\n",
       "    }\n",
       "\n",
       "    .dataframe tbody tr th {\n",
       "        vertical-align: top;\n",
       "    }\n",
       "\n",
       "    .dataframe thead th {\n",
       "        text-align: right;\n",
       "    }\n",
       "</style>\n",
       "<table border=\"1\" class=\"dataframe\">\n",
       "  <thead>\n",
       "    <tr style=\"text-align: right;\">\n",
       "      <th></th>\n",
       "      <th>p</th>\n",
       "      <th>test_stat</th>\n",
       "      <th>q</th>\n",
       "    </tr>\n",
       "  </thead>\n",
       "  <tbody>\n",
       "    <tr>\n",
       "      <th>k__Bacteria;p__Firmicutes;c__Clostridia;o__Clostridiales;f__Lachnospiraceae;g__Blautia;s__;d__denovo1772</th>\n",
       "      <td>0.391124</td>\n",
       "      <td>0.735444</td>\n",
       "      <td>0.716887</td>\n",
       "    </tr>\n",
       "    <tr>\n",
       "      <th>k__Bacteria;p__Proteobacteria;c__Gammaproteobacteria;o__Enterobacteriales;f__Enterobacteriaceae;g__Escherichia/Shigella;s__;d__denovo1770</th>\n",
       "      <td>0.220009</td>\n",
       "      <td>1.504314</td>\n",
       "      <td>0.665120</td>\n",
       "    </tr>\n",
       "    <tr>\n",
       "      <th>k__Bacteria;p__Bacteroidetes;c__Bacteroidia;o__Bacteroidales;f__Prevotellaceae;g__Prevotella;s__;d__denovo1771</th>\n",
       "      <td>0.391124</td>\n",
       "      <td>0.735444</td>\n",
       "      <td>0.716887</td>\n",
       "    </tr>\n",
       "    <tr>\n",
       "      <th>k__Bacteria;p__Firmicutes;c__Clostridia;o__Clostridiales;f__Lachnospiraceae;g__Clostridium_XlVa;s__;d__denovo1776</th>\n",
       "      <td>0.467265</td>\n",
       "      <td>0.528437</td>\n",
       "      <td>0.723964</td>\n",
       "    </tr>\n",
       "    <tr>\n",
       "      <th>k__Bacteria;p__Firmicutes;c__Clostridia;o__Clostridiales;f__Lachnospiraceae;g__;s__;d__denovo1774</th>\n",
       "      <td>0.345654</td>\n",
       "      <td>0.889348</td>\n",
       "      <td>0.716887</td>\n",
       "    </tr>\n",
       "  </tbody>\n",
       "</table>\n",
       "</div>"
      ],
      "text/plain": [
       "                                                           p  test_stat  \\\n",
       "k__Bacteria;p__Firmicutes;c__Clostridia;o__Clos...  0.391124   0.735444   \n",
       "k__Bacteria;p__Proteobacteria;c__Gammaproteobac...  0.220009   1.504314   \n",
       "k__Bacteria;p__Bacteroidetes;c__Bacteroidia;o__...  0.391124   0.735444   \n",
       "k__Bacteria;p__Firmicutes;c__Clostridia;o__Clos...  0.467265   0.528437   \n",
       "k__Bacteria;p__Firmicutes;c__Clostridia;o__Clos...  0.345654   0.889348   \n",
       "\n",
       "                                                           q  \n",
       "k__Bacteria;p__Firmicutes;c__Clostridia;o__Clos...  0.716887  \n",
       "k__Bacteria;p__Proteobacteria;c__Gammaproteobac...  0.665120  \n",
       "k__Bacteria;p__Bacteroidetes;c__Bacteroidia;o__...  0.716887  \n",
       "k__Bacteria;p__Firmicutes;c__Clostridia;o__Clos...  0.723964  \n",
       "k__Bacteria;p__Firmicutes;c__Clostridia;o__Clos...  0.716887  "
      ]
     },
     "execution_count": 28,
     "metadata": {},
     "output_type": "execute_result"
    }
   ],
   "source": [
    "# Remember we defined our case and control samples above\n",
    "\n",
    "pvals = compare_otus_teststat(df, control_samples, case_samples, method='kruskal-wallis', multi_comp='fdr')\n",
    "\n",
    "# pvals returns a three-column dataframe with the pvalues, adjusted q values, and test statistic\n",
    "pvals.head()"
   ]
  },
  {
   "cell_type": "markdown",
   "metadata": {},
   "source": [
    "### Look at the results\n",
    "\n",
    "We can first sort the OTUs by their qvalues, or count the number which are lower than a threshold."
   ]
  },
  {
   "cell_type": "code",
   "execution_count": 29,
   "metadata": {
    "collapsed": false
   },
   "outputs": [
    {
     "data": {
      "text/html": [
       "<div>\n",
       "<style scoped>\n",
       "    .dataframe tbody tr th:only-of-type {\n",
       "        vertical-align: middle;\n",
       "    }\n",
       "\n",
       "    .dataframe tbody tr th {\n",
       "        vertical-align: top;\n",
       "    }\n",
       "\n",
       "    .dataframe thead th {\n",
       "        text-align: right;\n",
       "    }\n",
       "</style>\n",
       "<table border=\"1\" class=\"dataframe\">\n",
       "  <thead>\n",
       "    <tr style=\"text-align: right;\">\n",
       "      <th></th>\n",
       "      <th>p</th>\n",
       "      <th>test_stat</th>\n",
       "      <th>q</th>\n",
       "    </tr>\n",
       "  </thead>\n",
       "  <tbody>\n",
       "    <tr>\n",
       "      <th>k__Bacteria;p__Bacteroidetes;c__Bacteroidia;o__Bacteroidales;f__Bacteroidaceae;g__Bacteroides;s__;d__denovo999</th>\n",
       "      <td>0.000009</td>\n",
       "      <td>19.817505</td>\n",
       "      <td>0.007082</td>\n",
       "    </tr>\n",
       "    <tr>\n",
       "      <th>k__Bacteria;p__Bacteroidetes;c__Bacteroidia;o__Bacteroidales;f__Rikenellaceae;g__Alistipes;s__;d__denovo252</th>\n",
       "      <td>0.000010</td>\n",
       "      <td>19.449301</td>\n",
       "      <td>0.007082</td>\n",
       "    </tr>\n",
       "    <tr>\n",
       "      <th>k__Bacteria;p__Firmicutes;c__Clostridia;o__Clostridiales;f__Ruminococcaceae;g__Gemmiger;s__;d__denovo212</th>\n",
       "      <td>0.000006</td>\n",
       "      <td>20.577863</td>\n",
       "      <td>0.007082</td>\n",
       "    </tr>\n",
       "    <tr>\n",
       "      <th>k__Bacteria;p__Bacteroidetes;c__Bacteroidia;o__Bacteroidales;f__Rikenellaceae;g__Alistipes;s__;d__denovo173</th>\n",
       "      <td>0.000010</td>\n",
       "      <td>19.514113</td>\n",
       "      <td>0.007082</td>\n",
       "    </tr>\n",
       "    <tr>\n",
       "      <th>k__Bacteria;p__Firmicutes;c__Clostridia;o__Clostridiales;f__Lachnospiraceae;g__Clostridium_XlVa;s__;d__denovo245</th>\n",
       "      <td>0.000019</td>\n",
       "      <td>18.284012</td>\n",
       "      <td>0.010436</td>\n",
       "    </tr>\n",
       "  </tbody>\n",
       "</table>\n",
       "</div>"
      ],
      "text/plain": [
       "                                                           p  test_stat  \\\n",
       "k__Bacteria;p__Bacteroidetes;c__Bacteroidia;o__...  0.000009  19.817505   \n",
       "k__Bacteria;p__Bacteroidetes;c__Bacteroidia;o__...  0.000010  19.449301   \n",
       "k__Bacteria;p__Firmicutes;c__Clostridia;o__Clos...  0.000006  20.577863   \n",
       "k__Bacteria;p__Bacteroidetes;c__Bacteroidia;o__...  0.000010  19.514113   \n",
       "k__Bacteria;p__Firmicutes;c__Clostridia;o__Clos...  0.000019  18.284012   \n",
       "\n",
       "                                                           q  \n",
       "k__Bacteria;p__Bacteroidetes;c__Bacteroidia;o__...  0.007082  \n",
       "k__Bacteria;p__Bacteroidetes;c__Bacteroidia;o__...  0.007082  \n",
       "k__Bacteria;p__Firmicutes;c__Clostridia;o__Clos...  0.007082  \n",
       "k__Bacteria;p__Bacteroidetes;c__Bacteroidia;o__...  0.007082  \n",
       "k__Bacteria;p__Firmicutes;c__Clostridia;o__Clos...  0.010436  "
      ]
     },
     "execution_count": 29,
     "metadata": {},
     "output_type": "execute_result"
    }
   ],
   "source": [
    "pvals.sort_values(by='q').head()"
   ]
  },
  {
   "cell_type": "code",
   "execution_count": 30,
   "metadata": {
    "collapsed": false
   },
   "outputs": [
    {
     "data": {
      "text/plain": [
       "12"
      ]
     },
     "execution_count": 30,
     "metadata": {},
     "output_type": "execute_result"
    }
   ],
   "source": [
    "alpha = 0.05\n",
    "sum(pvals['q'] <= alpha)"
   ]
  },
  {
   "cell_type": "markdown",
   "metadata": {},
   "source": [
    "Let's also plot the abundances of our most significant OTU."
   ]
  },
  {
   "cell_type": "code",
   "execution_count": 31,
   "metadata": {
    "collapsed": false
   },
   "outputs": [
    {
     "name": "stdout",
     "output_type": "stream",
     "text": [
      "k__Bacteria;p__Bacteroidetes;c__Bacteroidia;o__Bacteroidales;f__Bacteroidaceae;g__Bacteroides;s__;d__denovo999\n"
     ]
    }
   ],
   "source": [
    "# First we sort the qvalues dataframe, then we grab\n",
    "# the first row name (which is the OTU with the\n",
    "# smallest qvalue)\n",
    "most_sig_otu = pvals.sort_values(by='q').index[0]\n",
    "print(most_sig_otu)"
   ]
  },
  {
   "cell_type": "code",
   "execution_count": 49,
   "metadata": {
    "collapsed": false
   },
   "outputs": [
    {
     "data": {
      "image/png": "[encoded data removed]",
      "text/plain": [
       "<matplotlib.figure.Figure at 0x111893350>"
      ]
     },
     "metadata": {},
     "output_type": "display_data"
    }
   ],
   "source": [
    "# Now we can plot the abundance of this bug\n",
    "# We'll be using seaborn to plot the data because its functionality\n",
    "# is infinitely better than matplotlib. But first, we have to get\n",
    "# the data into tidy format.\n",
    "def plot_otu_abundance(df, otu, x_axis_labels, list_of_samples):\n",
    "    \"\"\"\n",
    "    Plots a boxplot with points for the values given in df[otu],\n",
    "    where each boxplot contains data from each of the collection\n",
    "    of samples in list_of_samples.\n",
    "    \n",
    "    Parameters\n",
    "    ----------\n",
    "    df : pandas DataFrame\n",
    "        dataframe with values to plot\n",
    "    otu : str\n",
    "        OTU (or column name in df) to plot\n",
    "    x_axis_labels : list of str\n",
    "        the labels for each of your x-axis boxplots\n",
    "    list_of_samples : list of lists\n",
    "        which samples should go on each x-axis tick.\n",
    "        e.g. this could be [control_samples, case_samples]\n",
    "        \n",
    "    Returns\n",
    "    -------\n",
    "    ax : axes handle of the plot you made\n",
    "    \"\"\"\n",
    "    toplot = []\n",
    "    i = 0\n",
    "    for samples in list_of_samples:\n",
    "        tmp = pd.DataFrame(\n",
    "                {'abun': df.loc[samples, otu], \n",
    "                 'label': len(samples)*[x_axis_labels[i]]}\n",
    "              )\n",
    "        toplot.append(tmp)\n",
    "        i += 1\n",
    "    toplot = pd.concat(toplot)\n",
    "    \n",
    "    fig, ax = plt.subplots()\n",
    "    sns.boxplot(data=toplot, x='label', y='abun',\n",
    "                fliersize=0)\n",
    "    sns.stripplot(data=toplot, x='label', y='abun',\n",
    "                  jitter=True, linewidth=0.5)\n",
    "    \n",
    "    return fig, ax\n",
    "\n",
    "fig, ax = plot_otu_abundance(df, most_sig_otu, \n",
    "                             ['case', 'control'], \n",
    "                             [case_samples, control_samples])\n",
    "\n",
    "# Now you can change what the boxplot looks like using the Axes Handle\n",
    "ax.set_ylabel('Abundance', fontsize='large')\n",
    "# You can also save this figure\n",
    "fig.savefig('my_figure.png')"
   ]
  },
  {
   "cell_type": "code",
   "execution_count": 50,
   "metadata": {
    "collapsed": false
   },
   "outputs": [
    {
     "data": {
      "image/png": "[encoded data removed]",
      "text/plain": [
       "<matplotlib.figure.Figure at 0x110b71390>"
      ]
     },
     "metadata": {},
     "output_type": "display_data"
    }
   ],
   "source": [
    "# You can also use this function to plot more than two groups\n",
    "uc_samples = meta.query('DiseaseState == \"UC\"').index.tolist()\n",
    "cd_samples = meta.query('DiseaseState == \"CD\"').index.tolist()\n",
    "\n",
    "fig, ax = plot_otu_abundance(df, most_sig_otu, \n",
    "                             ['UC', 'CD', 'nonIBD'], \n",
    "                             [uc_samples, cd_samples, control_samples])\n"
   ]
  },
  {
   "cell_type": "markdown",
   "metadata": {},
   "source": [
    "## Make a classifier\n",
    "\n",
    "Here, we'll go through the basic steps involved in making a RandomForest classifier. It's pretty similar to the univariate tests!"
   ]
  },
  {
   "cell_type": "code",
   "execution_count": 55,
   "metadata": {
    "collapsed": true
   },
   "outputs": [],
   "source": [
    "# Initialize your classifier\n",
    "rf = RandomForestClassifier(n_estimators=1000)\n",
    "\n",
    "# Prepare the sample lists\n",
    "\n",
    "# We'll keep the last 10 samples from both cases and\n",
    "# controls for testing (note: this is not the right\n",
    "# way to split your train and test sets, it should be\n",
    "# random subsamples of the patients!)\n",
    "train_smpls = control_samples[:-10] + case_samples[:-10]\n",
    "\n",
    "X = df.loc[train_smpls].values\n",
    "# Make a binary 0/1 label, where 1 corresponds to case_samples\n",
    "# and 0 is all other samples\n",
    "Y = [1 if i in case_samples else 0 for i in train_smpls]\n",
    "\n",
    "# Train your classifier\n",
    "rf = rf.fit(X, Y)"
   ]
  },
  {
   "cell_type": "markdown",
   "metadata": {},
   "source": [
    "Note: you should really separate out your data so that only a subset of your samples are included in this training set. You can do this by changing which samples are in the `control_samples` and `case_samples` lists."
   ]
  },
  {
   "cell_type": "code",
   "execution_count": 66,
   "metadata": {
    "collapsed": false
   },
   "outputs": [],
   "source": [
    "# See how well your classifier did\n",
    "\n",
    "# Get the test data\n",
    "test_smpls = control_samples[-10:] + case_samples[-10:]\n",
    "Xtest = df.loc[test_smpls].values\n",
    "Ytest = [1 if i in case_samples else 0 for i in test_smpls]"
   ]
  },
  {
   "cell_type": "markdown",
   "metadata": {},
   "source": [
    "Let's calculate the area under the ROC curve using sklearn.metrics' roc_auc_score function.\n",
    "\n",
    "This needs as input \"Target scores, can either be probability estimates of the positive class, confidence values, or non-thresholded measure of decisions (as returned by “decision_function” on some classifiers). For binary y_true, y_score is supposed to be the score of the class with greater label.\""
   ]
  },
  {
   "cell_type": "code",
   "execution_count": 67,
   "metadata": {
    "collapsed": false
   },
   "outputs": [
    {
     "data": {
      "text/plain": [
       "0.94000000000000006"
      ]
     },
     "execution_count": 67,
     "metadata": {},
     "output_type": "execute_result"
    }
   ],
   "source": [
    "probabs = rf.predict_proba(Xtest)\n",
    "roc_auc_score(Ytest, probabs[:, 1])"
   ]
  },
  {
   "cell_type": "markdown",
   "metadata": {},
   "source": [
    "And we can plot this ROC curve directly:"
   ]
  },
  {
   "cell_type": "code",
   "execution_count": 78,
   "metadata": {
    "collapsed": false
   },
   "outputs": [
    {
     "data": {
      "text/plain": [
       "<matplotlib.text.Text at 0x112da0110>"
      ]
     },
     "execution_count": 78,
     "metadata": {},
     "output_type": "execute_result"
    },
    {
     "data": {
      "image/png": "[encoded data removed]",
      "text/plain": [
       "<matplotlib.figure.Figure at 0x111c3a310>"
      ]
     },
     "metadata": {},
     "output_type": "display_data"
    }
   ],
   "source": [
    "fpr, tpr, thresholds = roc_curve(Ytest, probabs[:, 1])\n",
    "plt.plot(fpr, tpr)\n",
    "plt.xlabel('False positive rate')\n",
    "plt.ylabel('True positive rate')"
   ]
  },
  {
   "cell_type": "code",
   "execution_count": null,
   "metadata": {
    "collapsed": true
   },
   "outputs": [],
   "source": []
  }
 ],
 "metadata": {
  "anaconda-cloud": {},
  "kernelspec": {
   "display_name": "Python [default]",
   "language": "python",
   "name": "python2"
  },
  "language_info": {
   "codemirror_mode": {
    "name": "ipython",
    "version": 2
   },
   "file_extension": ".py",
   "mimetype": "text/x-python",
   "name": "python",
   "nbconvert_exporter": "python",
   "pygments_lexer": "ipython2",
   "version": "2.7.12"
  }
 },
 "nbformat": 4,
 "nbformat_minor": 2
}
